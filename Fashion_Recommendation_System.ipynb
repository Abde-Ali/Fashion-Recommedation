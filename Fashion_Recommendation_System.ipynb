{
  "nbformat": 4,
  "nbformat_minor": 0,
  "metadata": {
    "colab": {
      "provenance": [],
      "mount_file_id": "1nghz38xTHA9gGJQqQNhqGrdaQyAEn9jV",
      "authorship_tag": "ABX9TyMJAqguSmIxmc+hAICzB5HC"
    },
    "kernelspec": {
      "name": "python3",
      "display_name": "Python 3"
    },
    "language_info": {
      "name": "python"
    }
  },
  "cells": [
    {
      "cell_type": "code",
      "execution_count": null,
      "metadata": {
        "id": "jS2x6K1lbIve"
      },
      "outputs": [],
      "source": [
        "!unzip \"/content/drive/MyDrive/images.zip\" -d \"/content/drive/MyDrive/Recommend Fashion System\""
      ]
    },
    {
      "cell_type": "code",
      "source": [
        "import tensorflow\n",
        "from tensorflow.keras.preprocessing import image\n",
        "from tensorflow.keras.layers import GlobalMaxPooling2D\n",
        "from tensorflow.keras.applications.resnet50 import ResNet50,preprocess_input\n",
        "import numpy as np\n",
        "from numpy.linalg import norm\n",
        "import os\n",
        "from tqdm import tqdm\n",
        "import pickle"
      ],
      "metadata": {
        "id": "vNWO6HQZf4KI"
      },
      "execution_count": null,
      "outputs": []
    },
    {
      "cell_type": "code",
      "source": [
        "model = ResNet50(weights='imagenet',include_top=False,input_shape=(224,224,3))\n",
        "model.trainable = False\n",
        "\n",
        "model = tensorflow.keras.Sequential([\n",
        "    model,\n",
        "    GlobalMaxPooling2D()\n",
        "])"
      ],
      "metadata": {
        "colab": {
          "base_uri": "https://localhost:8080/"
        },
        "id": "lLQGJUhDhAdS",
        "outputId": "e8ec797f-e1e9-40fb-f9d9-48ea8acafe6c"
      },
      "execution_count": null,
      "outputs": [
        {
          "output_type": "stream",
          "name": "stdout",
          "text": [
            "Downloading data from https://storage.googleapis.com/tensorflow/keras-applications/resnet/resnet50_weights_tf_dim_ordering_tf_kernels_notop.h5\n",
            "94765736/94765736 [==============================] - 1s 0us/step\n"
          ]
        }
      ]
    },
    {
      "cell_type": "code",
      "source": [
        "#print(model.summary())\n",
        "\n",
        "def extract_features(img_path,model):\n",
        "    img = image.load_img(img_path,target_size=(224,224))\n",
        "    img_array = image.img_to_array(img)\n",
        "    expanded_img_array = np.expand_dims(img_array, axis=0)\n",
        "    preprocessed_img = preprocess_input(expanded_img_array)\n",
        "    result = model.predict(preprocessed_img).flatten()\n",
        "    normalized_result = result / norm(result)\n",
        "\n",
        "    return normalized_result"
      ],
      "metadata": {
        "id": "QStDxvINhGEe"
      },
      "execution_count": null,
      "outputs": []
    },
    {
      "cell_type": "code",
      "source": [
        "cd /content/drive/MyDrive/Recommend Fashion System\n"
      ],
      "metadata": {
        "colab": {
          "base_uri": "https://localhost:8080/"
        },
        "id": "-TPGB3pViYFG",
        "outputId": "2744184b-1a55-4883-b573-e3f0794da806"
      },
      "execution_count": null,
      "outputs": [
        {
          "output_type": "stream",
          "name": "stdout",
          "text": [
            "/content/drive/MyDrive/Recommend Fashion System\n"
          ]
        }
      ]
    },
    {
      "cell_type": "code",
      "source": [
        "filenames = []\n",
        "\n",
        "for file in tqdm(os.listdir(\"/content/drive/MyDrive/Recommend Fashion System/images\")):\n",
        "    filenames.append(os.path.join('images',file))\n",
        "\n",
        "pickle.dump(filenames,open('filenames.pkl','wb'))"
      ],
      "metadata": {
        "id": "4sdVqOZRhb2Y"
      },
      "execution_count": null,
      "outputs": []
    },
    {
      "cell_type": "code",
      "source": [
        "feature_list = []\n",
        "\n",
        "for file in tqdm(filenames):\n",
        "    feature_list.append(extract_features(file,model))\n",
        "\n",
        "pickle.dump(feature_list,open('embeddings.pkl','wb'))\n"
      ],
      "metadata": {
        "id": "NkZq1hejhULb"
      },
      "execution_count": null,
      "outputs": []
    },
    {
      "cell_type": "code",
      "source": [],
      "metadata": {
        "id": "6mIYgf6Jhsvc"
      },
      "execution_count": null,
      "outputs": []
    }
  ]
}